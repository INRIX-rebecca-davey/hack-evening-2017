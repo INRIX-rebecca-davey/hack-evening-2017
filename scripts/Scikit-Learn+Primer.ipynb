{
 "cells": [
  {
   "cell_type": "markdown",
   "metadata": {},
   "source": [
    "This is some simple code to try to predict the severity of an accident given a basic set of two features. \n",
    "\n",
    "As a first step we will import some required libraries. We will limit this to Pandas and to a bunch of scikit-learn functions. "
   ]
  },
  {
   "cell_type": "code",
   "execution_count": 104,
   "metadata": {
    "hideOutput": false
   },
   "outputs": [],
   "source": [
    "import pandas as pd\n",
    "from sklearn.model_selection import train_test_split\n",
    "from sklearn.linear_model import LogisticRegression\n",
    "from sklearn.metrics import auc,roc_auc_score,roc_curve"
   ]
  },
  {
   "cell_type": "markdown",
   "metadata": {},
   "source": [
    "We can read the data in one step. "
   ]
  },
  {
   "cell_type": "code",
   "execution_count": 110,
   "metadata": {
    "scrolled": true
   },
   "outputs": [
    {
     "data": {
      "text/html": [
       "<div>\n",
       "<style>\n",
       "    .dataframe thead tr:only-child th {\n",
       "        text-align: right;\n",
       "    }\n",
       "\n",
       "    .dataframe thead th {\n",
       "        text-align: left;\n",
       "    }\n",
       "\n",
       "    .dataframe tbody tr th {\n",
       "        vertical-align: top;\n",
       "    }\n",
       "</style>\n",
       "<table border=\"1\" class=\"dataframe\">\n",
       "  <thead>\n",
       "    <tr style=\"text-align: right;\">\n",
       "      <th></th>\n",
       "      <th>Unnamed: 0</th>\n",
       "      <th>Reference Number</th>\n",
       "      <th>Easting</th>\n",
       "      <th>Northing</th>\n",
       "      <th>Number of Vehicles</th>\n",
       "      <th>Accident Date</th>\n",
       "      <th>Time (24hr)</th>\n",
       "      <th>Hour of Day</th>\n",
       "      <th>Day of Week</th>\n",
       "      <th>1st Road Class</th>\n",
       "      <th>Road Surface</th>\n",
       "      <th>Lighting Conditions</th>\n",
       "      <th>Weather Conditions</th>\n",
       "      <th>Casualty Class</th>\n",
       "      <th>Casualty Severity</th>\n",
       "      <th>Sex of Casualty</th>\n",
       "      <th>Age of Casualty</th>\n",
       "      <th>Type of Vehicle</th>\n",
       "    </tr>\n",
       "  </thead>\n",
       "  <tbody>\n",
       "    <tr>\n",
       "      <th>0</th>\n",
       "      <td>0</td>\n",
       "      <td>202609</td>\n",
       "      <td>421937</td>\n",
       "      <td>443972</td>\n",
       "      <td>2</td>\n",
       "      <td>14-Mar-09</td>\n",
       "      <td>2330</td>\n",
       "      <td>23</td>\n",
       "      <td>6</td>\n",
       "      <td>Unclassified</td>\n",
       "      <td>Dry</td>\n",
       "      <td>Darkness: no street lighting</td>\n",
       "      <td>Fine with high winds</td>\n",
       "      <td>Driver/Rider</td>\n",
       "      <td>Slight</td>\n",
       "      <td>Male</td>\n",
       "      <td>30</td>\n",
       "      <td>Car</td>\n",
       "    </tr>\n",
       "    <tr>\n",
       "      <th>1</th>\n",
       "      <td>1</td>\n",
       "      <td>202609</td>\n",
       "      <td>421937</td>\n",
       "      <td>443972</td>\n",
       "      <td>2</td>\n",
       "      <td>14-Mar-09</td>\n",
       "      <td>2330</td>\n",
       "      <td>23</td>\n",
       "      <td>6</td>\n",
       "      <td>Unclassified</td>\n",
       "      <td>Dry</td>\n",
       "      <td>Darkness: no street lighting</td>\n",
       "      <td>Fine with high winds</td>\n",
       "      <td>Driver/Rider</td>\n",
       "      <td>Slight</td>\n",
       "      <td>Female</td>\n",
       "      <td>20</td>\n",
       "      <td>Car</td>\n",
       "    </tr>\n",
       "    <tr>\n",
       "      <th>2</th>\n",
       "      <td>2</td>\n",
       "      <td>810209</td>\n",
       "      <td>441193</td>\n",
       "      <td>448825</td>\n",
       "      <td>1</td>\n",
       "      <td>03-Oct-09</td>\n",
       "      <td>630</td>\n",
       "      <td>6</td>\n",
       "      <td>6</td>\n",
       "      <td>A(M)</td>\n",
       "      <td>Dry</td>\n",
       "      <td>Darkness: no street lighting</td>\n",
       "      <td>Fine with high winds</td>\n",
       "      <td>Driver/Rider</td>\n",
       "      <td>Slight</td>\n",
       "      <td>Male</td>\n",
       "      <td>29</td>\n",
       "      <td>Car</td>\n",
       "    </tr>\n",
       "  </tbody>\n",
       "</table>\n",
       "</div>"
      ],
      "text/plain": [
       "   Unnamed: 0 Reference Number  Easting  Northing  Number of Vehicles  \\\n",
       "0           0           202609   421937    443972                   2   \n",
       "1           1           202609   421937    443972                   2   \n",
       "2           2           810209   441193    448825                   1   \n",
       "\n",
       "  Accident Date  Time (24hr)  Hour of Day  Day of Week 1st Road Class  \\\n",
       "0     14-Mar-09         2330           23            6   Unclassified   \n",
       "1     14-Mar-09         2330           23            6   Unclassified   \n",
       "2     03-Oct-09          630            6            6           A(M)   \n",
       "\n",
       "  Road Surface           Lighting Conditions    Weather Conditions  \\\n",
       "0          Dry  Darkness: no street lighting  Fine with high winds   \n",
       "1          Dry  Darkness: no street lighting  Fine with high winds   \n",
       "2          Dry  Darkness: no street lighting  Fine with high winds   \n",
       "\n",
       "  Casualty Class Casualty Severity Sex of Casualty  Age of Casualty  \\\n",
       "0   Driver/Rider            Slight            Male               30   \n",
       "1   Driver/Rider            Slight          Female               20   \n",
       "2   Driver/Rider            Slight            Male               29   \n",
       "\n",
       "  Type of Vehicle  \n",
       "0             Car  \n",
       "1             Car  \n",
       "2             Car  "
      ]
     },
     "execution_count": 110,
     "metadata": {},
     "output_type": "execute_result"
    }
   ],
   "source": [
    "data = pd.read_csv(\"cleaned.csv\",encoding = \"iso8859_2\")\n",
    "data.head(3)"
   ]
  },
  {
   "cell_type": "markdown",
   "metadata": {},
   "source": [
    "Wow, quite a lot of features. But say that we are convinced that we might need just a couple of them and a simple model..."
   ]
  },
  {
   "cell_type": "code",
   "execution_count": 157,
   "metadata": {},
   "outputs": [
    {
     "data": {
      "text/plain": [
       "Counter({'Serious': 2192, 'Slight': 16691})"
      ]
     },
     "execution_count": 157,
     "metadata": {},
     "output_type": "execute_result"
    }
   ],
   "source": [
    "target = data[\"Casualty Severity\"]\n",
    "X =  data[[\"Hour of Day\",\"Road Surface\"]]\n",
    "\n",
    "from collections import Counter\n",
    "Counter(target)"
   ]
  },
  {
   "cell_type": "markdown",
   "metadata": {},
   "source": [
    "The vast majority are \"Slight\" severity incidents, our objective is to actually try to predict whether an incident will be \"Serious\" or not. We have chosen to use only two features, how bad is the road surface and the hour of the day. \n",
    "\n",
    "If there is snow and it's late at night chances are one is more likely to have an accident, right?\n",
    "\n",
    "But before jumping to the the modelling part I would need to convert the \"Road Surface\" from a categorical to a set of binary dummy features."
   ]
  },
  {
   "cell_type": "code",
   "execution_count": 158,
   "metadata": {},
   "outputs": [
    {
     "data": {
      "text/html": [
       "<div>\n",
       "<style>\n",
       "    .dataframe thead tr:only-child th {\n",
       "        text-align: right;\n",
       "    }\n",
       "\n",
       "    .dataframe thead th {\n",
       "        text-align: left;\n",
       "    }\n",
       "\n",
       "    .dataframe tbody tr th {\n",
       "        vertical-align: top;\n",
       "    }\n",
       "</style>\n",
       "<table border=\"1\" class=\"dataframe\">\n",
       "  <thead>\n",
       "    <tr style=\"text-align: right;\">\n",
       "      <th></th>\n",
       "      <th>Hour of Day</th>\n",
       "      <th>Dry</th>\n",
       "      <th>Flood (surface water over 3cm deep)</th>\n",
       "      <th>Frost / Ice</th>\n",
       "      <th>Snow</th>\n",
       "      <th>Wet / Damp</th>\n",
       "    </tr>\n",
       "  </thead>\n",
       "  <tbody>\n",
       "    <tr>\n",
       "      <th>0</th>\n",
       "      <td>23</td>\n",
       "      <td>1</td>\n",
       "      <td>0</td>\n",
       "      <td>0</td>\n",
       "      <td>0</td>\n",
       "      <td>0</td>\n",
       "    </tr>\n",
       "    <tr>\n",
       "      <th>1</th>\n",
       "      <td>23</td>\n",
       "      <td>1</td>\n",
       "      <td>0</td>\n",
       "      <td>0</td>\n",
       "      <td>0</td>\n",
       "      <td>0</td>\n",
       "    </tr>\n",
       "    <tr>\n",
       "      <th>2</th>\n",
       "      <td>6</td>\n",
       "      <td>1</td>\n",
       "      <td>0</td>\n",
       "      <td>0</td>\n",
       "      <td>0</td>\n",
       "      <td>0</td>\n",
       "    </tr>\n",
       "  </tbody>\n",
       "</table>\n",
       "</div>"
      ],
      "text/plain": [
       "   Hour of Day  Dry  Flood (surface water over 3cm deep)  Frost / Ice  Snow  \\\n",
       "0           23    1                                    0            0     0   \n",
       "1           23    1                                    0            0     0   \n",
       "2            6    1                                    0            0     0   \n",
       "\n",
       "   Wet / Damp  \n",
       "0           0  \n",
       "1           0  \n",
       "2           0  "
      ]
     },
     "execution_count": 158,
     "metadata": {},
     "output_type": "execute_result"
    }
   ],
   "source": [
    "dummies  = pd.get_dummies(X[\"Road Surface\"])\n",
    "X = pd.concat([X[\"Hour of Day\"],d] ,axis = 1)\n",
    "X.head(3)"
   ]
  },
  {
   "cell_type": "markdown",
   "metadata": {},
   "source": [
    "Looks cool! Now I'm all set to train my model. Since I have a categorical response variable - \"Slight\"/\"Serious\" - I'll use the scikit learn implementation of Logistic Regression. "
   ]
  },
  {
   "cell_type": "code",
   "execution_count": 159,
   "metadata": {},
   "outputs": [],
   "source": [
    "# Create train test split first\n",
    "X_train, X_test, y_train, y_test = train_test_split(X, target, test_size=0.15)\n",
    "\n",
    "lr = LogisticRegression()\n",
    "lr_fit = lr.fit(X_train,y_train)\n",
    "\n",
    "preds = lr.predict(X_test)"
   ]
  },
  {
   "cell_type": "markdown",
   "metadata": {},
   "source": [
    "All looked fine, so let's see what's the accuracy of my model!"
   ]
  },
  {
   "cell_type": "code",
   "execution_count": 160,
   "metadata": {},
   "outputs": [
    {
     "name": "stdout",
     "output_type": "stream",
     "text": [
      "Accuracy Score is,  0.886339569361\n"
     ]
    }
   ],
   "source": [
    "print(\"Accuracy Score is, \",lr.score(X_test,y_test))"
   ]
  },
  {
   "cell_type": "markdown",
   "metadata": {},
   "source": [
    "Awesome!!! But wait...let me check something."
   ]
  },
  {
   "cell_type": "code",
   "execution_count": 161,
   "metadata": {},
   "outputs": [
    {
     "name": "stdout",
     "output_type": "stream",
     "text": [
      "Predictions Distribution:  Counter({'Slight': 2833})\n",
      "-------------------\n",
      "Test Set Label Distribution:  Counter({'Slight': 2511, 'Serious': 322})\n"
     ]
    }
   ],
   "source": [
    "print(\"Predictions Distribution: \",Counter(preds))\n",
    "print(\"-------------------\")\n",
    "print(\"Test Set Label Distribution: \",Counter(y_test))"
   ]
  },
  {
   "cell_type": "markdown",
   "metadata": {},
   "source": [
    "Arghh the accuracy is completely misleading, the model always predict the same thing and the accuracy doesn't do anything else than reflecting  my class distribution.\n",
    "\n",
    "In fact 2521/(2521+312) is exactly equal to 0.889 which is my accuracy score. \n",
    "\n",
    "I'll have to try much harder than that!"
   ]
  },
  {
   "cell_type": "code",
   "execution_count": null,
   "metadata": {
    "collapsed": true
   },
   "outputs": [],
   "source": []
  }
 ],
 "metadata": {
  "kernelspec": {
   "display_name": "Python 3",
   "language": "python",
   "name": "python3"
  },
  "language_info": {
   "codemirror_mode": {
    "name": "ipython",
    "version": 3
   },
   "file_extension": ".py",
   "mimetype": "text/x-python",
   "name": "python",
   "nbconvert_exporter": "python",
   "pygments_lexer": "ipython3",
   "version": "3.6.1"
  }
 },
 "nbformat": 4,
 "nbformat_minor": 2
}
